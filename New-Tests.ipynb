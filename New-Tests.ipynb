{
 "cells": [
  {
   "cell_type": "markdown",
   "id": "4ca62894-517d-4334-8c9b-1158f4a4af05",
   "metadata": {},
   "source": [
    "> H1: Self-concept dimensions (i.e., physical, social, temperamental, educational, moral, and intellectual) increases the impact of\n",
    "anxiety.\n",
    "\n",
    "### Robost Regression"
   ]
  },
  {
   "cell_type": "code",
   "execution_count": 1,
   "id": "4aa7332b-8975-4bcd-a4bb-069ea852c4ba",
   "metadata": {},
   "outputs": [
    {
     "name": "stdout",
     "output_type": "stream",
     "text": [
      "Intercept: 10.071904360504979\n",
      "Coefficients: [10.07103848 -3.97517686  0.06107994 -3.70422799 -1.33819399 -0.23192287\n",
      "  1.68744141]\n",
      "                    Robust linear Model Regression Results                    \n",
      "==============================================================================\n",
      "Dep. Variable:              TOTAL_BAI   No. Observations:                  211\n",
      "Model:                            RLM   Df Residuals:                      204\n",
      "Method:                          IRLS   Df Model:                            6\n",
      "Norm:                          HuberT                                         \n",
      "Scale Est.:                       mad                                         \n",
      "Cov Type:                          H1                                         \n",
      "Date:                Sat, 30 Nov 2024                                         \n",
      "Time:                        16:56:04                                         \n",
      "No. Iterations:                    17                                         \n",
      "==============================================================================\n",
      "                 coef    std err          z      P>|z|      [0.025      0.975]\n",
      "------------------------------------------------------------------------------\n",
      "const         20.6973      0.860     24.058      0.000      19.011      22.383\n",
      "x1            -4.1283      1.101     -3.748      0.000      -6.287      -1.969\n",
      "x2             0.5274      0.983      0.536      0.592      -1.399       2.454\n",
      "x3            -3.2692      1.195     -2.737      0.006      -5.611      -0.928\n",
      "x4            -1.1816      1.023     -1.155      0.248      -3.187       0.824\n",
      "x5            -0.4881      1.030     -0.474      0.636      -2.506       1.530\n",
      "x6             1.9730      0.969      2.037      0.042       0.075       3.871\n",
      "==============================================================================\n",
      "\n",
      "If the model instance has been used for another fit with different fit parameters, then the fit options might not be the correct ones anymore .\n"
     ]
    }
   ],
   "source": [
    "import statsmodels.api as sm\n",
    "from sklearn.preprocessing import StandardScaler\n",
    "from sklearn.linear_model import HuberRegressor\n",
    "import pandas as pd\n",
    "\n",
    "df = pd.read_csv('merged_data.csv')\n",
    "\n",
    "# 1. Prepare the data\n",
    "X = df[['Physical', 'Social', 'Temperamental', 'Educational', 'Moral', 'Intellectual']]  # IVs\n",
    "y = df['TOTAL_BAI']  # DV\n",
    "\n",
    "# 2. Standardizing the data (optional but recommended for robust models)\n",
    "scaler = StandardScaler()\n",
    "X_scaled = scaler.fit_transform(X)\n",
    "\n",
    "# 3. Add a constant (intercept) term for the regression\n",
    "X_scaled = sm.add_constant(X_scaled)\n",
    "\n",
    "# 4. Fit a Robust Linear Model using Huber Regressor from sklearn\n",
    "model = HuberRegressor()\n",
    "model.fit(X_scaled, y)\n",
    "\n",
    "# 5. Print out the coefficients and intercept\n",
    "print(f\"Intercept: {model.intercept_}\")\n",
    "print(f\"Coefficients: {model.coef_}\")\n",
    "\n",
    "# 6. Predicting values\n",
    "y_pred = model.predict(X_scaled)\n",
    "\n",
    "# 7. You can also calculate residuals or other model diagnostics\n",
    "residuals = y - y_pred\n",
    "\n",
    "# Optionally: Checking the summary statistics using statsmodels for robust regression\n",
    "robust_model = sm.RLM(y, X_scaled, M=sm.robust.norms.HuberT()).fit()\n",
    "print(robust_model.summary())"
   ]
  },
  {
   "cell_type": "markdown",
   "id": "c817ea23-4e62-4b13-8ca7-3a0699313c88",
   "metadata": {},
   "source": [
    "The model assessing the relationship between self-concept dimensions and anxiety (TOTAL_BAI) using a Robust Linear Model (RLM) found that physical (β = -4.13, p < 0.001) and temperamental (β = -3.27, p = 0.006) self-concept dimensions were significantly negatively related to anxiety, suggesting that higher physical and temperamental self-concepts are associated with lower anxiety. In contrast, intellectual self-concept (β = 1.97, p = 0.042) was positively related to anxiety, indicating that a higher intellectual self-concept is associated with increased anxiety. Social (p = 0.592), educational (p = 0.248), and moral (p = 0.636) self-concept dimensions did not significantly impact anxiety. Overall, the model indicates that self-concept dimensions do influence anxiety, but the effect varies across dimensions, with only physical, temperamental, and intellectual dimensions showing significant effects.\n",
    "\n",
    "Therefore, we reject H1 as not all hypothesized relationships between self-concept dimensions (Social, Educational, and Moral) and anxiety were significant."
   ]
  },
  {
   "cell_type": "markdown",
   "id": "e6b11bb4-4762-45dc-84bf-2c2db1039ded",
   "metadata": {},
   "source": [
    "> H2: There is a significant mean difference between the physical, social, temperamental, educational, intellectual, and moral self-concepts of males and females."
   ]
  },
  {
   "cell_type": "code",
   "execution_count": 2,
   "id": "05f5d419-d914-48ac-bbdc-bf1a42bdef95",
   "metadata": {},
   "outputs": [
    {
     "name": "stdout",
     "output_type": "stream",
     "text": [
      "                      Test Type Statistic   P-Value\n",
      "Physical       Kruskal-Wallis H  0.724968  0.394519\n",
      "Social                   t-test -0.898542  0.369931\n",
      "Temperamental  Kruskal-Wallis H  0.231253  0.630596\n",
      "Educational              t-test -1.063054  0.288984\n",
      "Moral          Kruskal-Wallis H  0.248027  0.618468\n",
      "Intellectual   Kruskal-Wallis H  0.984691  0.321043\n"
     ]
    }
   ],
   "source": [
    "import pandas as pd\n",
    "from scipy import stats\n",
    "\n",
    "\n",
    "# Split the DataFrame into male and female groups\n",
    "df_male = df[df['Gender'] == 'M']\n",
    "df_female = df[df['Gender'] == 'F']\n",
    "\n",
    "# List of self-concept dimensions to test\n",
    "dimensions = ['Physical', 'Social', 'Temperamental', 'Educational', 'Moral', 'Intellectual']\n",
    "\n",
    "# Initialize a dictionary to store results\n",
    "results = {}\n",
    "\n",
    "# Loop through each dimension and perform appropriate tests\n",
    "for dim in dimensions:\n",
    "    male_data = df_male[dim]\n",
    "    female_data = df_female[dim]\n",
    "    \n",
    "    # Check if the data is normally distributed using the Shapiro-Wilk test\n",
    "    _, p_value_male = stats.shapiro(male_data)\n",
    "    _, p_value_female = stats.shapiro(female_data)\n",
    "    \n",
    "    # If both groups are normal, use a t-test\n",
    "    if p_value_male > 0.05 and p_value_female > 0.05:\n",
    "        # Perform independent t-test (assuming equal variances as per Levene's Test)\n",
    "        t_stat, p_value = stats.ttest_ind(male_data, female_data, equal_var=True)\n",
    "        test_type = 't-test'\n",
    "    else:\n",
    "        # If either group is not normal, use Kruskal-Wallis H test (for non-normally distributed data)\n",
    "        h_stat, p_value = stats.kruskal(male_data, female_data)\n",
    "        test_type = 'Kruskal-Wallis H'\n",
    "    \n",
    "    # Store the results\n",
    "    results[dim] = {\n",
    "        'Test Type': test_type,\n",
    "        'Statistic': h_stat if test_type == 'Kruskal-Wallis H' else t_stat,\n",
    "        'P-Value': p_value\n",
    "    }\n",
    "\n",
    "# Convert results to DataFrame for better readability\n",
    "results_df = pd.DataFrame(results).T\n",
    "print(results_df)\n"
   ]
  },
  {
   "cell_type": "markdown",
   "id": "c1220087-13e5-43fa-85e6-e2d301c1d223",
   "metadata": {},
   "source": [
    "A series of t-tests and Kruskal-Wallis tests were conducted to examine potential gender differences in self-concept dimensions. The results indicated no significant differences between males and females for any of the self-concept dimensions (physical, social, temperamental, educational, moral, and intellectual). Therefore, **Hypothesis 2 was not supported**. "
   ]
  },
  {
   "cell_type": "code",
   "execution_count": 3,
   "id": "e713e45d-3c39-4f00-a16b-ea12ca19dd9d",
   "metadata": {},
   "outputs": [
    {
     "name": "stdout",
     "output_type": "stream",
     "text": [
      "              Test Type t-Statistic P-Value(t-stat) Kruskal-Wallis H  \\\n",
      "Physical         t-test     0.50173        0.616386         0.724968   \n",
      "Social           t-test   -0.898542        0.369931         1.208565   \n",
      "Temperamental    t-test    0.178291        0.858667         0.231253   \n",
      "Educational      t-test   -1.063054        0.288984         1.572835   \n",
      "Moral            t-test   -0.912334        0.362644         0.248027   \n",
      "Intellectual     t-test    1.309798        0.191702         0.984691   \n",
      "\n",
      "              P-Value(Kruskal-Wallis H)  \n",
      "Physical                       0.394519  \n",
      "Social                         0.271617  \n",
      "Temperamental                  0.630596  \n",
      "Educational                    0.209796  \n",
      "Moral                          0.618468  \n",
      "Intellectual                   0.321043  \n"
     ]
    }
   ],
   "source": [
    "import pandas as pd\n",
    "from scipy import stats\n",
    "\n",
    "df_male = df[df['Gender'] == 'M']\n",
    "df_female = df[df['Gender'] == 'F']\n",
    "\n",
    "dimensions = ['Physical', 'Social', 'Temperamental', 'Educational', 'Moral', 'Intellectual']\n",
    "\n",
    "# Initialize a dictionary to store results\n",
    "results_ttest = {}\n",
    "\n",
    "# Loop through each dimension and perform a t-test and 'Mann-Whitney U'\n",
    "for dim in dimensions:\n",
    "    male_data = df_male[dim]\n",
    "    female_data = df_female[dim]\n",
    "    \n",
    "    # Perform independent t-test assuming equal variances (Levene's test suggested equality of variance)\n",
    "    t_stat, p_value = stats.ttest_ind(male_data, female_data, equal_var=True)\n",
    "    # If either group is not normal, use Kruskal-Wallis H test (for non-normally distributed data)\n",
    "    h_stat, h_p_value = stats.kruskal(male_data, female_data)\n",
    "    test_type = 'Kruskal-Wallis H'\n",
    "    \n",
    "    # Store the results\n",
    "    results_ttest[dim] = {\n",
    "        'Test Type': 't-test',\n",
    "        't-Statistic': t_stat,\n",
    "        'P-Value(t-stat)': p_value,\n",
    "        'Kruskal-Wallis H':h_stat,\n",
    "        'P-Value(Kruskal-Wallis H)': h_p_value\n",
    "    }\n",
    "\n",
    "# Convert results to DataFrame for better readability\n",
    "results_ttest_df = pd.DataFrame(results_ttest).T\n",
    "print(results_ttest_df)\n"
   ]
  },
  {
   "cell_type": "markdown",
   "id": "da4f610e-0000-47d0-9c32-a2cde4c47752",
   "metadata": {},
   "source": [
    "A series of t-tests and Kruskal-Wallis H tests were conducted to compare self-concept dimensions between males and females. No significant gender differences were found for physical, social, temperamental, educational, moral, or intellectual self-concept. Thus, gender differences in self-concept is rejected."
   ]
  },
  {
   "cell_type": "markdown",
   "id": "215dff90-1174-4567-852d-0329420a8258",
   "metadata": {},
   "source": [
    "> H3: There is a significant mean difference between the anxiety scores of males and females."
   ]
  },
  {
   "cell_type": "code",
   "execution_count": 4,
   "id": "ed32a617-5876-4faf-8664-eeae253aad3e",
   "metadata": {},
   "outputs": [
    {
     "name": "stdout",
     "output_type": "stream",
     "text": [
      "TOTAL_BAI\n",
      "                  W      pval  normal\n",
      "TOTAL_BAI  0.962684  0.000024   False\n"
     ]
    }
   ],
   "source": [
    "import pandas as pd\n",
    "import pingouin as pg\n",
    "\n",
    "print(\"TOTAL_BAI\")\n",
    "print(pg.normality(df['TOTAL_BAI']))"
   ]
  },
  {
   "cell_type": "code",
   "execution_count": 5,
   "id": "69d689dd-75a5-436a-8700-5a88537532d0",
   "metadata": {},
   "outputs": [
    {
     "name": "stdout",
     "output_type": "stream",
     "text": [
      "Kruskal-Wallis H statistic: 0.9846914184877255\n",
      "p-value: 0.32104330864735464\n",
      "There is no significant difference in anxiety scores between males and females.\n"
     ]
    }
   ],
   "source": [
    "import pandas as pd\n",
    "from scipy.stats import mannwhitneyu\n",
    "\n",
    "# Split data by gender\n",
    "male_scores = df[df['Gender'] == 'M']['TOTAL_BAI']\n",
    "female_scores = df[df['Gender'] == 'F']['TOTAL_BAI']\n",
    "\n",
    "# Perform the Mann-Whitney U test\n",
    "stat, p_value = stats.kruskal(male_data, female_data)\n",
    "\n",
    "# Print results\n",
    "print(f'Kruskal-Wallis H statistic: {stat}')\n",
    "print(f'p-value: {p_value}')\n",
    "\n",
    "# Interpretation\n",
    "if p_value < 0.05:\n",
    "    print(\"There is a significant difference in anxiety scores between males and females.\")\n",
    "else:\n",
    "    print(\"There is no significant difference in anxiety scores between males and females.\")"
   ]
  },
  {
   "cell_type": "markdown",
   "id": "7d947cf5-9a31-49a5-8aa3-eb274035f3ba",
   "metadata": {},
   "source": [
    "## H4: There is a relation between overall self-concept and anxiety\n",
    "### Since each latent variable can only be directly equated with one observed variable, we can only conduct a path analysis, which estimates relationships among observed variables"
   ]
  },
  {
   "cell_type": "code",
   "execution_count": 6,
   "id": "0b2b70f3-662e-492b-8cf9-f296ec817b5a",
   "metadata": {},
   "outputs": [
    {
     "name": "stdout",
     "output_type": "stream",
     "text": [
      "correlation: -0.35981202410671403\n",
      "p_value: 7.586842080088851e-08\n"
     ]
    }
   ],
   "source": [
    "import numpy as np\n",
    "from scipy.stats import spearmanr\n",
    "\n",
    "# Example data (replace these arrays with your actual data)\n",
    "self_concept = df['TOTAL']\n",
    "bai = df['TOTAL_BAI']\n",
    "\n",
    "# Calculate Spearman correlation\n",
    "correlation, p_value = spearmanr(self_concept, bai)\n",
    "\n",
    "print(f\"correlation: {correlation}\")\n",
    "print(f\"p_value: {p_value}\")"
   ]
  },
  {
   "cell_type": "markdown",
   "id": "0ec73008-9945-4280-9299-30cbe975c231",
   "metadata": {},
   "source": [
    "A significant negative correlation was found between overall self-concept and anxiety (r = -.35, p < .001). This indicates that as overall self-concept increases, anxiety tends to decrease. "
   ]
  },
  {
   "cell_type": "markdown",
   "id": "5c2ce9d4-4adb-4d29-89f4-72371eefd268",
   "metadata": {},
   "source": [
    "### Path-Analysis"
   ]
  },
  {
   "cell_type": "code",
   "execution_count": 7,
   "id": "6ce1bde6-cc8b-4d24-82f8-084b9e72e0a4",
   "metadata": {},
   "outputs": [
    {
     "data": {
      "text/plain": [
       "SolverResult(fun=1.4635173262140428, success=True, n_it=35, x=array([ 2.92379183e-01,  2.92265684e-01,  2.92465801e-01,  2.92507929e-01,\n",
       "        2.92282661e-01,  2.91121551e-01, -8.42351743e-01,  2.54544859e-01,\n",
       "       -6.72318940e-01, -3.38012467e-01, -1.08256480e-01,  5.25951481e-01,\n",
       "        9.20272334e+00,  6.07102074e+00,  7.39900727e+00,  1.12289541e+01,\n",
       "        9.02418142e+00,  1.51888851e+02,  9.39371851e+00]), message='Optimization terminated successfully', name_method='SLSQP', name_obj='MLW')"
      ]
     },
     "execution_count": 7,
     "metadata": {},
     "output_type": "execute_result"
    }
   ],
   "source": [
    "import pandas as pd\n",
    "from semopy import Model, Optimizer\n",
    "\n",
    "data = df.copy()\n",
    "\n",
    "model_description = \"\"\"\n",
    "# Measurement Model\n",
    "Physical ~ Physical\n",
    "Social ~ Social\n",
    "Temperamental ~ Temperamental\n",
    "Educational ~ Educational\n",
    "Moral ~ Moral\n",
    "Intellectual ~ Intellectual\n",
    "\n",
    "# Structural Model\n",
    "TOTAL_BAI ~ Physical + Social + Temperamental + Educational + Moral + Intellectual\n",
    "\"\"\"\n",
    "\n",
    "# Initialize and fit the model\n",
    "model = Model(model_description)\n",
    "model.fit(data)"
   ]
  },
  {
   "cell_type": "code",
   "execution_count": 8,
   "id": "220cb8f0-a83e-4584-ae38-2fe949de0bac",
   "metadata": {},
   "outputs": [
    {
     "name": "stdout",
     "output_type": "stream",
     "text": [
      "       DoF  DoF Baseline        chi2  chi2 p-value  chi2 Baseline       CFI  \\\n",
      "Value    9            21  308.802156           0.0     358.783848  0.112444   \n",
      "\n",
      "            GFI     AGFI       NFI       TLI     RMSEA        AIC       BIC  \\\n",
      "Value  0.139309 -1.00828  0.139309 -1.070965  0.398278  35.072965  98.75827   \n",
      "\n",
      "         LogLik  \n",
      "Value  1.463517  \n"
     ]
    }
   ],
   "source": [
    "from semopy import calc_stats\n",
    "stats = calc_stats(model)\n",
    "print(stats)"
   ]
  },
  {
   "cell_type": "code",
   "execution_count": 9,
   "id": "eee42a6f-8bc6-4cac-8b8a-22b447a14d64",
   "metadata": {},
   "outputs": [
    {
     "name": "stdout",
     "output_type": "stream",
     "text": [
      "Model 1 AIC: 3.999999993049731\n",
      "Model 1 BIC: 10.703716260001865\n"
     ]
    }
   ],
   "source": [
    "# Basic Model: Only one predictor\n",
    "model_description_1 = \"\"\"\n",
    "# Structural Model\n",
    "TOTAL_BAI ~ Physical\n",
    "\"\"\"\n",
    "\n",
    "# Fit the model\n",
    "model_1 = Model(model_description_1)\n",
    "model_1.fit(df)\n",
    "\n",
    "# Calculate fit statistics\n",
    "stats_1 = calc_stats(model_1)\n",
    "print(\"Model 1 AIC:\", stats_1[\"AIC\"].Value)\n",
    "print(\"Model 1 BIC:\", stats_1[\"BIC\"].Value)"
   ]
  },
  {
   "cell_type": "code",
   "execution_count": 10,
   "id": "a59c3d26-0971-4588-a668-9570f2c68602",
   "metadata": {},
   "outputs": [
    {
     "name": "stdout",
     "output_type": "stream",
     "text": [
      "Model 2 AIC: 5.9999998793045854\n",
      "Model 2 BIC: 16.055574279732785\n"
     ]
    }
   ],
   "source": [
    "# Extended Model: Two predictors\n",
    "model_description_2 = \"\"\"\n",
    "# Structural Model\n",
    "TOTAL_BAI ~ Physical + Social\n",
    "\"\"\"\n",
    "\n",
    "# Fit the model\n",
    "model_2 = Model(model_description_2)\n",
    "model_2.fit(df)\n",
    "\n",
    "# Calculate fit statistics\n",
    "stats_2 = calc_stats(model_2)\n",
    "print(\"Model 2 AIC:\", stats_2[\"AIC\"].Value)\n",
    "print(\"Model 2 BIC:\", stats_2[\"BIC\"].Value)"
   ]
  },
  {
   "cell_type": "code",
   "execution_count": 11,
   "id": "4da5f470-082d-4875-9072-0459399a1739",
   "metadata": {},
   "outputs": [
    {
     "name": "stdout",
     "output_type": "stream",
     "text": [
      "Model 3 AIC: 13.999999574005411\n",
      "Model 3 BIC: 37.463006508337884\n"
     ]
    }
   ],
   "source": [
    "# Full Model: All predictors\n",
    "model_description_3 = \"\"\"\n",
    "# Structural Model\n",
    "TOTAL_BAI ~ Physical + Social + Temperamental + Educational + Moral + Intellectual\n",
    "\"\"\"\n",
    "\n",
    "# Fit the model\n",
    "model_3 = Model(model_description_3)\n",
    "model_3.fit(df)\n",
    "\n",
    "# Calculate fit statistics\n",
    "stats_3 = calc_stats(model_3)\n",
    "print(\"Model 3 AIC:\", stats_3[\"AIC\"].Value)\n",
    "print(\"Model 3 BIC:\", stats_3[\"BIC\"].Value)"
   ]
  },
  {
   "cell_type": "code",
   "execution_count": 12,
   "id": "a874ca93-ac3e-41a7-b2f6-23366eafd49e",
   "metadata": {},
   "outputs": [
    {
     "name": "stdout",
     "output_type": "stream",
     "text": [
      "Model 4 AIC: 13.796094340592322\n",
      "Model 4 BIC: 37.25910127492479\n"
     ]
    },
    {
     "name": "stderr",
     "output_type": "stream",
     "text": [
      "C:\\Users\\vaish\\AppData\\Local\\Packages\\PythonSoftwareFoundation.Python.3.12_qbz5n2kfra8p0\\LocalCache\\local-packages\\Python312\\site-packages\\semopy\\stats.py:383: RuntimeWarning: invalid value encountered in sqrt\n",
      "  return np.sqrt((chi2 / dof - 1) / (model.n_samples - 1))\n"
     ]
    }
   ],
   "source": [
    "# Model with measurement and structural components\n",
    "model_description_4 = \"\"\"\n",
    "# Measurement Model\n",
    "Physical ~ Physical\n",
    "Social ~ Social\n",
    "\n",
    "# Structural Model\n",
    "TOTAL_BAI ~ Physical + Social\n",
    "\"\"\"\n",
    "\n",
    "# Fit the model\n",
    "model_4 = Model(model_description_4)\n",
    "model_4.fit(df)\n",
    "\n",
    "# Calculate fit statistics\n",
    "stats_4 = calc_stats(model_4)\n",
    "print(\"Model 4 AIC:\", stats_4[\"AIC\"].Value)\n",
    "print(\"Model 4 BIC:\", stats_4[\"BIC\"].Value)"
   ]
  },
  {
   "cell_type": "code",
   "execution_count": 13,
   "id": "636d75b2-712d-4afd-84ab-ca2c88875d75",
   "metadata": {},
   "outputs": [
    {
     "name": "stdout",
     "output_type": "stream",
     "text": [
      "Model 1 AIC: 5.999999996962963\n",
      "Model 1 BIC: 16.05557439739116\n"
     ]
    }
   ],
   "source": [
    "# Basic Model: Only one predictor\n",
    "model_description_1 = \"\"\"\n",
    "# Structural Model\n",
    "TOTAL_BAI ~ Physical + Moral\n",
    "\"\"\"\n",
    "\n",
    "# Fit the model\n",
    "model_1 = Model(model_description_1)\n",
    "model_1.fit(df)\n",
    "\n",
    "# Calculate fit statistics\n",
    "stats_1 = calc_stats(model_1)\n",
    "print(\"Model 1 AIC:\", stats_1[\"AIC\"].Value)\n",
    "print(\"Model 1 BIC:\", stats_1[\"BIC\"].Value)"
   ]
  },
  {
   "cell_type": "markdown",
   "id": "aa09e99f-d674-4cf1-bef9-e5dfd8f9aa04",
   "metadata": {},
   "source": [
    "AIC and BIC scores remain consistently lower with only one predictor, and the scores do not improve when adding more predictors. Predictors are highly correlated, adding them does not contribute additional information. This can also be seen from pearson correlation."
   ]
  },
  {
   "cell_type": "code",
   "execution_count": null,
   "id": "5211d0ff-3d10-4c08-ac41-bca65e2ce43b",
   "metadata": {},
   "outputs": [],
   "source": []
  },
  {
   "cell_type": "code",
   "execution_count": null,
   "id": "07113eab-b788-43e9-94ec-52d890b80de2",
   "metadata": {},
   "outputs": [],
   "source": []
  }
 ],
 "metadata": {
  "kernelspec": {
   "display_name": "myenv",
   "language": "python",
   "name": "myenv"
  },
  "language_info": {
   "codemirror_mode": {
    "name": "ipython",
    "version": 3
   },
   "file_extension": ".py",
   "mimetype": "text/x-python",
   "name": "python",
   "nbconvert_exporter": "python",
   "pygments_lexer": "ipython3",
   "version": "3.12.7"
  }
 },
 "nbformat": 4,
 "nbformat_minor": 5
}
